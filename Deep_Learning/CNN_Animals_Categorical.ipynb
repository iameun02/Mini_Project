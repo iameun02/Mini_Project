{
  "nbformat": 4,
  "nbformat_minor": 0,
  "metadata": {
    "colab": {
      "provenance": []
    },
    "kernelspec": {
      "name": "python3",
      "display_name": "Python 3"
    },
    "gpuClass": "standard",
    "accelerator": "GPU"
  },
  "cells": [
    {
      "cell_type": "markdown",
      "metadata": {
        "id": "q2Pr7oBdYLdf"
      },
      "source": [
        "# 이미지 데이터 셋을 이용한 CNN Modeling\n",
        "## Animals Dataset Categorical Classification\n",
        "* Train_Data : 5000\n",
        "* Valid_Data : 3000\n",
        "* Test_Data : 3000"
      ]
    },
    {
      "cell_type": "code",
      "metadata": {
        "id": "RbPgODpVzdHI"
      },
      "source": [
        "import warnings\n",
        "warnings.filterwarnings('ignore')"
      ],
      "execution_count": 1,
      "outputs": []
    },
    {
      "cell_type": "markdown",
      "source": [
        "* Import TensorFlow"
      ],
      "metadata": {
        "id": "kGLxnpmRyMwH"
      }
    },
    {
      "cell_type": "code",
      "source": [
        "import tensorflow as tf\n",
        "\n",
        "tf.__version__"
      ],
      "metadata": {
        "colab": {
          "base_uri": "https://localhost:8080/",
          "height": 36
        },
        "id": "axDX2DfUyPlO",
        "outputId": "8ddb29c0-0540-41f4-8c76-dfa6b49a85b7"
      },
      "execution_count": 2,
      "outputs": [
        {
          "output_type": "execute_result",
          "data": {
            "text/plain": [
              "'2.12.0'"
            ],
            "application/vnd.google.colaboratory.intrinsic+json": {
              "type": "string"
            }
          },
          "metadata": {},
          "execution_count": 2
        }
      ]
    },
    {
      "cell_type": "markdown",
      "metadata": {
        "id": "6d1FeKK1CgqG"
      },
      "source": [
        "# I. wget From Github"
      ]
    },
    {
      "cell_type": "markdown",
      "source": [
        "> ## 1) 'animals_part.zip' 파일 다운로드"
      ],
      "metadata": {
        "id": "aQ-o8xUHpG7-"
      }
    },
    {
      "cell_type": "code",
      "source": [
        "!wget https://raw.githubusercontent.com/rusita-ai/pyData/master/animals_part.z{ip,01,02}"
      ],
      "metadata": {
        "colab": {
          "base_uri": "https://localhost:8080/"
        },
        "id": "f32hYtuOh4F4",
        "outputId": "a2f46f95-9f88-421d-f9e5-8c83f1134b81"
      },
      "execution_count": 3,
      "outputs": [
        {
          "output_type": "stream",
          "name": "stdout",
          "text": [
            "--2023-04-04 06:33:34--  https://raw.githubusercontent.com/rusita-ai/pyData/master/animals_part.zip\n",
            "Resolving raw.githubusercontent.com (raw.githubusercontent.com)... 185.199.110.133, 185.199.111.133, 185.199.109.133, ...\n",
            "Connecting to raw.githubusercontent.com (raw.githubusercontent.com)|185.199.110.133|:443... connected.\n",
            "HTTP request sent, awaiting response... 200 OK\n",
            "Length: 88551715 (84M) [application/zip]\n",
            "Saving to: ‘animals_part.zip’\n",
            "\n",
            "animals_part.zip    100%[===================>]  84.45M   306MB/s    in 0.3s    \n",
            "\n",
            "2023-04-04 06:33:37 (306 MB/s) - ‘animals_part.zip’ saved [88551715/88551715]\n",
            "\n",
            "--2023-04-04 06:33:37--  https://raw.githubusercontent.com/rusita-ai/pyData/master/animals_part.z01\n",
            "Reusing existing connection to raw.githubusercontent.com:443.\n",
            "HTTP request sent, awaiting response... 200 OK\n",
            "Length: 94371840 (90M) [application/octet-stream]\n",
            "Saving to: ‘animals_part.z01’\n",
            "\n",
            "animals_part.z01    100%[===================>]  90.00M   310MB/s    in 0.3s    \n",
            "\n",
            "2023-04-04 06:33:41 (310 MB/s) - ‘animals_part.z01’ saved [94371840/94371840]\n",
            "\n",
            "--2023-04-04 06:33:41--  https://raw.githubusercontent.com/rusita-ai/pyData/master/animals_part.z02\n",
            "Reusing existing connection to raw.githubusercontent.com:443.\n",
            "HTTP request sent, awaiting response... 200 OK\n",
            "Length: 94371840 (90M) [application/octet-stream]\n",
            "Saving to: ‘animals_part.z02’\n",
            "\n",
            "animals_part.z02    100%[===================>]  90.00M   348MB/s    in 0.3s    \n",
            "\n",
            "2023-04-04 06:33:44 (348 MB/s) - ‘animals_part.z02’ saved [94371840/94371840]\n",
            "\n",
            "FINISHED --2023-04-04 06:33:44--\n",
            "Total wall clock time: 10s\n",
            "Downloaded: 3 files, 264M in 0.8s (320 MB/s)\n"
          ]
        }
      ]
    },
    {
      "cell_type": "markdown",
      "metadata": {
        "id": "rBrMKlsgEvV7"
      },
      "source": [
        "* 다운로드 결과 확인"
      ]
    },
    {
      "cell_type": "code",
      "metadata": {
        "id": "ZAA_YjrVExu7",
        "colab": {
          "base_uri": "https://localhost:8080/"
        },
        "outputId": "129d2022-d695-4040-b017-ebaac00e45af"
      },
      "source": [
        "!ls -l"
      ],
      "execution_count": 4,
      "outputs": [
        {
          "output_type": "stream",
          "name": "stdout",
          "text": [
            "total 270804\n",
            "-rw-r--r-- 1 root root 94371840 Apr  4 06:33 animals_part.z01\n",
            "-rw-r--r-- 1 root root 94371840 Apr  4 06:33 animals_part.z02\n",
            "-rw-r--r-- 1 root root 88551715 Apr  4 06:33 animals_part.zip\n",
            "drwxr-xr-x 1 root root     4096 Mar 31 13:36 sample_data\n"
          ]
        }
      ]
    },
    {
      "cell_type": "markdown",
      "source": [
        "> ## 2) 분할된 파일 합치기"
      ],
      "metadata": {
        "id": "LpDYRNy9pS72"
      }
    },
    {
      "cell_type": "code",
      "source": [
        "!zip -Fq animals_part.zip --out animals.zip"
      ],
      "metadata": {
        "id": "oObuOlWgc8X7"
      },
      "execution_count": 5,
      "outputs": []
    },
    {
      "cell_type": "markdown",
      "source": [
        "* 'animals.zip' 생성 확인"
      ],
      "metadata": {
        "id": "2RJG0f3npnju"
      }
    },
    {
      "cell_type": "code",
      "source": [
        "!ls -l"
      ],
      "metadata": {
        "colab": {
          "base_uri": "https://localhost:8080/"
        },
        "id": "0QoV9boXpsL1",
        "outputId": "f9c205cf-2963-4e54-b515-aba2af7deafa"
      },
      "execution_count": 6,
      "outputs": [
        {
          "output_type": "stream",
          "name": "stdout",
          "text": [
            "total 541604\n",
            "-rw-r--r-- 1 root root  94371840 Apr  4 06:33 animals_part.z01\n",
            "-rw-r--r-- 1 root root  94371840 Apr  4 06:33 animals_part.z02\n",
            "-rw-r--r-- 1 root root  88551715 Apr  4 06:33 animals_part.zip\n",
            "-rw-r--r-- 1 root root 277295391 Apr  4 06:34 animals.zip\n",
            "drwxr-xr-x 1 root root      4096 Mar 31 13:36 sample_data\n"
          ]
        }
      ]
    },
    {
      "cell_type": "markdown",
      "metadata": {
        "id": "1DyFdyVxFyHK"
      },
      "source": [
        "# II. Data Preprocessing"
      ]
    },
    {
      "cell_type": "markdown",
      "metadata": {
        "id": "D9zdBsGKnLUo"
      },
      "source": [
        "> ## 1) Unzip 'animals.zip'"
      ]
    },
    {
      "cell_type": "code",
      "metadata": {
        "id": "WkuHaDXcnUtY"
      },
      "source": [
        "!unzip -q /content/animals.zip"
      ],
      "execution_count": 7,
      "outputs": []
    },
    {
      "cell_type": "markdown",
      "source": [
        "* 학습 데이터 확인"
      ],
      "metadata": {
        "id": "nYRGJ9bpp4pF"
      }
    },
    {
      "cell_type": "code",
      "source": [
        "!ls -l animals/"
      ],
      "metadata": {
        "colab": {
          "base_uri": "https://localhost:8080/"
        },
        "id": "FdQBGRJTp0MV",
        "outputId": "0de37244-2d7a-45a7-8136-fbeaa46445a1"
      },
      "execution_count": 8,
      "outputs": [
        {
          "output_type": "stream",
          "name": "stdout",
          "text": [
            "total 12\n",
            "drwxr-xr-x 12 root root 4096 Oct 25 13:50 test\n",
            "drwxr-xr-x 12 root root 4096 Oct 25 13:50 train\n",
            "drwxr-xr-x 12 root root 4096 Oct 25 13:50 validation\n"
          ]
        }
      ]
    },
    {
      "cell_type": "markdown",
      "metadata": {
        "id": "H49A769LYp-a"
      },
      "source": [
        "> ## 2) Image_File Directory Setting"
      ]
    },
    {
      "cell_type": "markdown",
      "metadata": {
        "id": "fwUMpMCYGB7Z"
      },
      "source": [
        "* train_dir\n",
        "* valid_dir\n",
        "* test_dir"
      ]
    },
    {
      "cell_type": "code",
      "metadata": {
        "id": "DxstjE8b_6Te"
      },
      "source": [
        "train_dir = 'animals/train'\n",
        "valid_dir = 'animals/validation'\n",
        "test_dir  = 'animals/test'"
      ],
      "execution_count": 9,
      "outputs": []
    },
    {
      "cell_type": "markdown",
      "metadata": {
        "id": "Mk9XL5vGHor6"
      },
      "source": [
        "> ## 3) ImageDataGenerator( ) & flow_from_directory( )"
      ]
    },
    {
      "cell_type": "code",
      "source": [
        "from tensorflow.keras.preprocessing.image import ImageDataGenerator\n",
        "\n",
        "train_datagen = ImageDataGenerator(rescale = 1./255)\n",
        "valid_datagen = ImageDataGenerator(rescale = 1./255)\n",
        "test_datagen = ImageDataGenerator(rescale = 1./255)\n",
        "\n",
        "train_generator = train_datagen.flow_from_directory(\n",
        "    train_dir,\n",
        "    target_size = (150, 150),\n",
        "    batch_size = 50,\n",
        "    class_mode = 'categorical'\n",
        ")\n",
        "\n",
        "valid_generator = valid_datagen.flow_from_directory(\n",
        "    valid_dir,\n",
        "    target_size = (150, 150),\n",
        "    batch_size = 50,\n",
        "    class_mode = 'categorical'\n",
        ")\n",
        "\n",
        "test_generator = test_datagen.flow_from_directory(\n",
        "    test_dir,\n",
        "    target_size = (150, 150),\n",
        "    batch_size = 50,\n",
        "    class_mode = 'categorical'\n",
        ")"
      ],
      "metadata": {
        "colab": {
          "base_uri": "https://localhost:8080/"
        },
        "id": "wqaUBJ3x-a7m",
        "outputId": "4887dbb5-3f54-4fa3-d162-d425f95a6328"
      },
      "execution_count": 10,
      "outputs": [
        {
          "output_type": "stream",
          "name": "stdout",
          "text": [
            "Found 5000 images belonging to 10 classes.\n",
            "Found 3000 images belonging to 10 classes.\n",
            "Found 3000 images belonging to 10 classes.\n"
          ]
        }
      ]
    },
    {
      "cell_type": "markdown",
      "metadata": {
        "id": "vCpCB_giJbZr"
      },
      "source": [
        "> ## 4) Test train_generator"
      ]
    },
    {
      "cell_type": "code",
      "source": [
        "for data_batch, labels_batch in train_generator:\n",
        "  print('배치 데이터 크기 :', data_batch.shape) #50씩 생성되고  shape = (150,150,3)\n",
        "  print('배치 레이블 크기 :', labels_batch.shape)\n",
        "  break"
      ],
      "metadata": {
        "colab": {
          "base_uri": "https://localhost:8080/"
        },
        "id": "24lwMfUfATgh",
        "outputId": "152bcdc5-bf78-49dc-d765-fec789469736"
      },
      "execution_count": 16,
      "outputs": [
        {
          "output_type": "stream",
          "name": "stdout",
          "text": [
            "배치 데이터 크기 : (50, 150, 150, 3)\n",
            "배치 레이블 크기 : (50, 10)\n"
          ]
        }
      ]
    },
    {
      "cell_type": "markdown",
      "metadata": {
        "id": "NTwZiSjiop3v"
      },
      "source": [
        "# III. CNN Keras Modeling"
      ]
    },
    {
      "cell_type": "markdown",
      "metadata": {
        "id": "j5CT0TurJCkc"
      },
      "source": [
        "> ## 1) Model Define"
      ]
    },
    {
      "cell_type": "code",
      "source": [
        "from tensorflow.keras import models\n",
        "from tensorflow.keras import layers\n",
        "from tensorflow.keras import regularizers\n",
        "\n",
        "model = models.Sequential(\n",
        "    layers.Conv2D(filters= 32, kernel_size= (3,3), activation = 'relu', input_shape =(150,150,3)))\n",
        "model.add(layers.MaxPooling2D((2,2)))\n",
        "model.add(layers.Conv2D(64, (3, 3), activation = 'relu'))\n",
        "model.add(layers.MaxPooling2D((2, 2)))\n",
        "model.add(layers.Conv2D(128, (3, 3), activation = 'relu'))\n",
        "model.add(layers.MaxPooling2D((2, 2)))\n",
        "model.add(layers.Conv2D(128, (3, 3), activation = 'relu'))\n",
        "model.add(layers.MaxPooling2D((2, 2)))\n",
        "\n",
        "\n",
        "model.add(layers.Flatten())\n",
        "model.add(layers.Dense(512, activation = 'relu',\n",
        "                       kernel_regularizer = regularizers.l2(0.00005)))\n",
        "model.add(layers.Dense(256, activation = 'relu',\n",
        "                       kernel_regularizer = regularizers.l2(0.00005)))\n",
        "model.add(layers.Dense(10, activation = 'softmax'))"
      ],
      "metadata": {
        "id": "FCUQjiAOBLYi"
      },
      "execution_count": 50,
      "outputs": []
    },
    {
      "cell_type": "code",
      "source": [
        "model.summary()"
      ],
      "metadata": {
        "colab": {
          "base_uri": "https://localhost:8080/"
        },
        "id": "LDVBvhd-DrLj",
        "outputId": "294b9c0f-34fb-460b-b752-294dddf9ba89"
      },
      "execution_count": 51,
      "outputs": [
        {
          "output_type": "stream",
          "name": "stdout",
          "text": [
            "Model: \"sequential_3\"\n",
            "_________________________________________________________________\n",
            " Layer (type)                Output Shape              Param #   \n",
            "=================================================================\n",
            " conv2d_43 (Conv2D)          (None, 148, 148, 32)      896       \n",
            "                                                                 \n",
            " max_pooling2d_30 (MaxPoolin  (None, 74, 74, 32)       0         \n",
            " g2D)                                                            \n",
            "                                                                 \n",
            " conv2d_44 (Conv2D)          (None, 72, 72, 64)        18496     \n",
            "                                                                 \n",
            " max_pooling2d_31 (MaxPoolin  (None, 36, 36, 64)       0         \n",
            " g2D)                                                            \n",
            "                                                                 \n",
            " conv2d_45 (Conv2D)          (None, 34, 34, 128)       73856     \n",
            "                                                                 \n",
            " max_pooling2d_32 (MaxPoolin  (None, 17, 17, 128)      0         \n",
            " g2D)                                                            \n",
            "                                                                 \n",
            " conv2d_46 (Conv2D)          (None, 15, 15, 128)       147584    \n",
            "                                                                 \n",
            " max_pooling2d_33 (MaxPoolin  (None, 7, 7, 128)        0         \n",
            " g2D)                                                            \n",
            "                                                                 \n",
            " flatten_3 (Flatten)         (None, 6272)              0         \n",
            "                                                                 \n",
            " dense_6 (Dense)             (None, 512)               3211776   \n",
            "                                                                 \n",
            " dense_7 (Dense)             (None, 256)               131328    \n",
            "                                                                 \n",
            " dense_8 (Dense)             (None, 10)                2570      \n",
            "                                                                 \n",
            "=================================================================\n",
            "Total params: 3,586,506\n",
            "Trainable params: 3,586,506\n",
            "Non-trainable params: 0\n",
            "_________________________________________________________________\n"
          ]
        }
      ]
    },
    {
      "cell_type": "markdown",
      "metadata": {
        "id": "tpjBDBeYoyuj"
      },
      "source": [
        "> ## 2) Model Compile"
      ]
    },
    {
      "cell_type": "code",
      "source": [
        "model.compile(optimizer= 'adam',\n",
        "              loss ='categorical_crossentropy',\n",
        "              metrics =['accuracy'])"
      ],
      "metadata": {
        "id": "-obVl7LjDqdv"
      },
      "execution_count": 52,
      "outputs": []
    },
    {
      "cell_type": "markdown",
      "metadata": {
        "id": "umiq4B-Xo3OB"
      },
      "source": [
        "> ## 3) Model Fit"
      ]
    },
    {
      "cell_type": "code",
      "source": [
        "history = model.fit(train_generator, \n",
        "                   steps_per_epoch = 100,\n",
        "                   epochs= 100,\n",
        "                   validation_data= valid_generator,\n",
        "                   validation_steps= 60)"
      ],
      "metadata": {
        "colab": {
          "base_uri": "https://localhost:8080/"
        },
        "id": "CVlZs-aWEEfY",
        "outputId": "156e4807-f153-454e-98a0-27cb3142f49d"
      },
      "execution_count": 53,
      "outputs": [
        {
          "output_type": "stream",
          "name": "stdout",
          "text": [
            "Epoch 1/100\n",
            "100/100 [==============================] - 29s 216ms/step - loss: 2.1975 - accuracy: 0.2060 - val_loss: 2.0768 - val_accuracy: 0.2047\n",
            "Epoch 2/100\n",
            "100/100 [==============================] - 22s 218ms/step - loss: 1.8835 - accuracy: 0.3272 - val_loss: 1.9393 - val_accuracy: 0.3023\n",
            "Epoch 3/100\n",
            "100/100 [==============================] - 22s 216ms/step - loss: 1.6621 - accuracy: 0.4068 - val_loss: 1.7540 - val_accuracy: 0.3800\n",
            "Epoch 4/100\n",
            "100/100 [==============================] - 26s 256ms/step - loss: 1.4323 - accuracy: 0.4966 - val_loss: 1.6492 - val_accuracy: 0.4327\n",
            "Epoch 5/100\n",
            "100/100 [==============================] - 21s 215ms/step - loss: 1.2461 - accuracy: 0.5740 - val_loss: 1.5360 - val_accuracy: 0.4707\n",
            "Epoch 6/100\n",
            "100/100 [==============================] - 21s 206ms/step - loss: 1.0553 - accuracy: 0.6438 - val_loss: 1.6561 - val_accuracy: 0.4693\n",
            "Epoch 7/100\n",
            "100/100 [==============================] - 22s 219ms/step - loss: 0.8234 - accuracy: 0.7368 - val_loss: 1.6238 - val_accuracy: 0.4890\n",
            "Epoch 8/100\n",
            "100/100 [==============================] - 21s 214ms/step - loss: 0.5970 - accuracy: 0.8128 - val_loss: 1.8299 - val_accuracy: 0.4823\n",
            "Epoch 9/100\n",
            "100/100 [==============================] - 21s 209ms/step - loss: 0.4400 - accuracy: 0.8710 - val_loss: 2.2074 - val_accuracy: 0.4910\n",
            "Epoch 10/100\n",
            "100/100 [==============================] - 22s 216ms/step - loss: 0.3001 - accuracy: 0.9212 - val_loss: 2.4042 - val_accuracy: 0.4707\n",
            "Epoch 11/100\n",
            "100/100 [==============================] - 25s 255ms/step - loss: 0.2088 - accuracy: 0.9556 - val_loss: 2.9772 - val_accuracy: 0.5047\n",
            "Epoch 12/100\n",
            "100/100 [==============================] - 21s 214ms/step - loss: 0.1764 - accuracy: 0.9646 - val_loss: 2.9845 - val_accuracy: 0.5113\n",
            "Epoch 13/100\n",
            "100/100 [==============================] - 21s 207ms/step - loss: 0.1808 - accuracy: 0.9628 - val_loss: 3.3662 - val_accuracy: 0.4910\n",
            "Epoch 14/100\n",
            "100/100 [==============================] - 22s 217ms/step - loss: 0.2096 - accuracy: 0.9574 - val_loss: 3.0941 - val_accuracy: 0.5023\n",
            "Epoch 15/100\n",
            "100/100 [==============================] - 25s 255ms/step - loss: 0.1533 - accuracy: 0.9774 - val_loss: 3.1816 - val_accuracy: 0.5033\n",
            "Epoch 16/100\n",
            "100/100 [==============================] - 22s 216ms/step - loss: 0.0907 - accuracy: 0.9982 - val_loss: 3.7533 - val_accuracy: 0.5217\n",
            "Epoch 17/100\n",
            "100/100 [==============================] - 21s 206ms/step - loss: 0.1586 - accuracy: 0.9772 - val_loss: 3.3315 - val_accuracy: 0.4817\n",
            "Epoch 18/100\n",
            "100/100 [==============================] - 21s 214ms/step - loss: 0.1559 - accuracy: 0.9756 - val_loss: 3.5625 - val_accuracy: 0.4787\n",
            "Epoch 19/100\n",
            "100/100 [==============================] - 21s 210ms/step - loss: 0.1734 - accuracy: 0.9720 - val_loss: 3.3745 - val_accuracy: 0.4977\n",
            "Epoch 20/100\n",
            "100/100 [==============================] - 21s 213ms/step - loss: 0.1526 - accuracy: 0.9814 - val_loss: 3.6854 - val_accuracy: 0.5033\n",
            "Epoch 21/100\n",
            "100/100 [==============================] - 21s 212ms/step - loss: 0.1432 - accuracy: 0.9834 - val_loss: 3.5694 - val_accuracy: 0.4783\n",
            "Epoch 22/100\n",
            "100/100 [==============================] - 21s 213ms/step - loss: 0.1302 - accuracy: 0.9866 - val_loss: 3.9525 - val_accuracy: 0.4940\n",
            "Epoch 23/100\n",
            "100/100 [==============================] - 21s 212ms/step - loss: 0.1205 - accuracy: 0.9898 - val_loss: 4.0366 - val_accuracy: 0.4827\n",
            "Epoch 24/100\n",
            "100/100 [==============================] - 20s 202ms/step - loss: 0.1277 - accuracy: 0.9876 - val_loss: 3.9930 - val_accuracy: 0.4903\n",
            "Epoch 25/100\n",
            "100/100 [==============================] - 21s 212ms/step - loss: 0.1312 - accuracy: 0.9846 - val_loss: 3.9391 - val_accuracy: 0.4723\n",
            "Epoch 26/100\n",
            "100/100 [==============================] - 21s 210ms/step - loss: 0.1597 - accuracy: 0.9782 - val_loss: 4.1272 - val_accuracy: 0.4740\n",
            "Epoch 27/100\n",
            "100/100 [==============================] - 20s 202ms/step - loss: 0.1826 - accuracy: 0.9724 - val_loss: 4.0841 - val_accuracy: 0.4663\n",
            "Epoch 28/100\n",
            "100/100 [==============================] - 21s 209ms/step - loss: 0.1489 - accuracy: 0.9846 - val_loss: 4.1399 - val_accuracy: 0.4783\n",
            "Epoch 29/100\n",
            "100/100 [==============================] - 21s 210ms/step - loss: 0.1239 - accuracy: 0.9914 - val_loss: 4.1011 - val_accuracy: 0.4917\n",
            "Epoch 30/100\n",
            "100/100 [==============================] - 20s 203ms/step - loss: 0.1068 - accuracy: 0.9958 - val_loss: 4.6003 - val_accuracy: 0.4767\n",
            "Epoch 31/100\n",
            "100/100 [==============================] - 21s 210ms/step - loss: 0.1380 - accuracy: 0.9864 - val_loss: 4.3367 - val_accuracy: 0.4837\n",
            "Epoch 32/100\n",
            "100/100 [==============================] - 25s 251ms/step - loss: 0.1710 - accuracy: 0.9772 - val_loss: 4.0223 - val_accuracy: 0.4823\n",
            "Epoch 33/100\n",
            "100/100 [==============================] - 21s 211ms/step - loss: 0.1191 - accuracy: 0.9930 - val_loss: 4.2366 - val_accuracy: 0.4853\n",
            "Epoch 34/100\n",
            "100/100 [==============================] - 20s 205ms/step - loss: 0.1388 - accuracy: 0.9872 - val_loss: 4.7057 - val_accuracy: 0.4817\n",
            "Epoch 35/100\n",
            "100/100 [==============================] - 21s 212ms/step - loss: 0.1741 - accuracy: 0.9782 - val_loss: 3.8814 - val_accuracy: 0.4710\n",
            "Epoch 36/100\n",
            "100/100 [==============================] - 21s 208ms/step - loss: 0.1363 - accuracy: 0.9876 - val_loss: 3.9546 - val_accuracy: 0.4890\n",
            "Epoch 37/100\n",
            "100/100 [==============================] - 21s 212ms/step - loss: 0.1158 - accuracy: 0.9964 - val_loss: 4.4213 - val_accuracy: 0.4803\n",
            "Epoch 38/100\n",
            "100/100 [==============================] - 21s 209ms/step - loss: 0.1111 - accuracy: 0.9968 - val_loss: 4.7752 - val_accuracy: 0.4713\n",
            "Epoch 39/100\n",
            "100/100 [==============================] - 20s 203ms/step - loss: 0.1338 - accuracy: 0.9898 - val_loss: 4.4670 - val_accuracy: 0.4857\n",
            "Epoch 40/100\n",
            "100/100 [==============================] - 21s 212ms/step - loss: 0.1768 - accuracy: 0.9794 - val_loss: 4.2000 - val_accuracy: 0.4670\n",
            "Epoch 41/100\n",
            "100/100 [==============================] - 25s 251ms/step - loss: 0.1710 - accuracy: 0.9782 - val_loss: 3.5855 - val_accuracy: 0.4950\n",
            "Epoch 42/100\n",
            "100/100 [==============================] - 21s 209ms/step - loss: 0.1477 - accuracy: 0.9900 - val_loss: 4.0906 - val_accuracy: 0.4790\n",
            "Epoch 43/100\n",
            "100/100 [==============================] - 20s 201ms/step - loss: 0.1439 - accuracy: 0.9914 - val_loss: 4.0995 - val_accuracy: 0.4860\n",
            "Epoch 44/100\n",
            "100/100 [==============================] - 21s 212ms/step - loss: 0.1417 - accuracy: 0.9886 - val_loss: 4.0714 - val_accuracy: 0.4887\n",
            "Epoch 45/100\n",
            "100/100 [==============================] - 25s 253ms/step - loss: 0.1300 - accuracy: 0.9926 - val_loss: 4.6118 - val_accuracy: 0.4783\n",
            "Epoch 46/100\n",
            "100/100 [==============================] - 21s 210ms/step - loss: 0.1524 - accuracy: 0.9856 - val_loss: 4.4755 - val_accuracy: 0.4757\n",
            "Epoch 47/100\n",
            "100/100 [==============================] - 22s 223ms/step - loss: 0.1474 - accuracy: 0.9870 - val_loss: 4.4864 - val_accuracy: 0.4733\n",
            "Epoch 48/100\n",
            "100/100 [==============================] - 21s 212ms/step - loss: 0.1272 - accuracy: 0.9924 - val_loss: 4.2708 - val_accuracy: 0.4907\n",
            "Epoch 49/100\n",
            "100/100 [==============================] - 20s 203ms/step - loss: 0.1306 - accuracy: 0.9918 - val_loss: 4.7793 - val_accuracy: 0.4840\n",
            "Epoch 50/100\n",
            "100/100 [==============================] - 22s 218ms/step - loss: 0.1246 - accuracy: 0.9944 - val_loss: 4.5912 - val_accuracy: 0.4883\n",
            "Epoch 51/100\n",
            "100/100 [==============================] - 21s 209ms/step - loss: 0.1348 - accuracy: 0.9906 - val_loss: 4.6734 - val_accuracy: 0.4873\n",
            "Epoch 52/100\n",
            "100/100 [==============================] - 25s 253ms/step - loss: 0.1319 - accuracy: 0.9910 - val_loss: 4.4550 - val_accuracy: 0.4817\n",
            "Epoch 53/100\n",
            "100/100 [==============================] - 21s 213ms/step - loss: 0.1404 - accuracy: 0.9906 - val_loss: 4.9982 - val_accuracy: 0.4867\n",
            "Epoch 54/100\n",
            "100/100 [==============================] - 20s 205ms/step - loss: 0.1508 - accuracy: 0.9902 - val_loss: 5.0944 - val_accuracy: 0.4567\n",
            "Epoch 55/100\n",
            "100/100 [==============================] - 21s 214ms/step - loss: 0.2045 - accuracy: 0.9728 - val_loss: 4.2564 - val_accuracy: 0.4643\n",
            "Epoch 56/100\n",
            "100/100 [==============================] - 21s 214ms/step - loss: 0.1500 - accuracy: 0.9898 - val_loss: 4.4126 - val_accuracy: 0.4700\n",
            "Epoch 57/100\n",
            "100/100 [==============================] - 21s 214ms/step - loss: 0.1198 - accuracy: 0.9980 - val_loss: 4.3187 - val_accuracy: 0.4903\n",
            "Epoch 58/100\n",
            "100/100 [==============================] - 21s 214ms/step - loss: 0.1153 - accuracy: 0.9988 - val_loss: 4.5683 - val_accuracy: 0.4863\n",
            "Epoch 59/100\n",
            "100/100 [==============================] - 25s 252ms/step - loss: 0.1094 - accuracy: 1.0000 - val_loss: 4.6459 - val_accuracy: 0.4973\n",
            "Epoch 60/100\n",
            "100/100 [==============================] - 21s 209ms/step - loss: 0.1059 - accuracy: 1.0000 - val_loss: 4.6696 - val_accuracy: 0.5040\n",
            "Epoch 61/100\n",
            "100/100 [==============================] - 20s 203ms/step - loss: 0.1032 - accuracy: 1.0000 - val_loss: 4.6940 - val_accuracy: 0.5037\n",
            "Epoch 62/100\n",
            "100/100 [==============================] - 21s 210ms/step - loss: 0.1007 - accuracy: 1.0000 - val_loss: 4.7138 - val_accuracy: 0.5040\n",
            "Epoch 63/100\n",
            "100/100 [==============================] - 21s 211ms/step - loss: 0.0982 - accuracy: 1.0000 - val_loss: 4.7315 - val_accuracy: 0.5040\n",
            "Epoch 64/100\n",
            "100/100 [==============================] - 20s 203ms/step - loss: 0.0957 - accuracy: 1.0000 - val_loss: 4.7447 - val_accuracy: 0.5043\n",
            "Epoch 65/100\n",
            "100/100 [==============================] - 21s 209ms/step - loss: 0.0931 - accuracy: 1.0000 - val_loss: 4.7568 - val_accuracy: 0.5053\n",
            "Epoch 66/100\n",
            "100/100 [==============================] - 21s 211ms/step - loss: 0.0906 - accuracy: 1.0000 - val_loss: 4.7695 - val_accuracy: 0.5063\n",
            "Epoch 67/100\n",
            "100/100 [==============================] - 20s 202ms/step - loss: 0.0880 - accuracy: 1.0000 - val_loss: 4.7798 - val_accuracy: 0.5050\n",
            "Epoch 68/100\n",
            "100/100 [==============================] - 21s 208ms/step - loss: 0.0854 - accuracy: 1.0000 - val_loss: 4.7870 - val_accuracy: 0.5037\n",
            "Epoch 69/100\n",
            "100/100 [==============================] - 21s 210ms/step - loss: 0.0829 - accuracy: 1.0000 - val_loss: 4.7940 - val_accuracy: 0.5030\n",
            "Epoch 70/100\n",
            "100/100 [==============================] - 21s 210ms/step - loss: 0.0803 - accuracy: 1.0000 - val_loss: 4.8003 - val_accuracy: 0.5050\n",
            "Epoch 71/100\n",
            "100/100 [==============================] - 21s 208ms/step - loss: 0.0777 - accuracy: 1.0000 - val_loss: 4.8058 - val_accuracy: 0.5053\n",
            "Epoch 72/100\n",
            "100/100 [==============================] - 20s 203ms/step - loss: 0.0752 - accuracy: 1.0000 - val_loss: 4.8113 - val_accuracy: 0.5037\n",
            "Epoch 73/100\n",
            "100/100 [==============================] - 21s 210ms/step - loss: 0.0726 - accuracy: 1.0000 - val_loss: 4.8171 - val_accuracy: 0.5040\n",
            "Epoch 74/100\n",
            "100/100 [==============================] - 25s 254ms/step - loss: 0.0700 - accuracy: 1.0000 - val_loss: 4.8239 - val_accuracy: 0.5030\n",
            "Epoch 75/100\n",
            "100/100 [==============================] - 21s 208ms/step - loss: 0.0675 - accuracy: 1.0000 - val_loss: 4.8292 - val_accuracy: 0.5020\n",
            "Epoch 76/100\n",
            "100/100 [==============================] - 21s 210ms/step - loss: 0.0650 - accuracy: 1.0000 - val_loss: 4.8334 - val_accuracy: 0.5030\n",
            "Epoch 77/100\n",
            "100/100 [==============================] - 25s 251ms/step - loss: 0.0624 - accuracy: 1.0000 - val_loss: 4.8413 - val_accuracy: 0.5033\n",
            "Epoch 78/100\n",
            "100/100 [==============================] - 21s 209ms/step - loss: 0.0599 - accuracy: 1.0000 - val_loss: 4.8454 - val_accuracy: 0.5037\n",
            "Epoch 79/100\n",
            "100/100 [==============================] - 21s 210ms/step - loss: 0.0575 - accuracy: 1.0000 - val_loss: 4.8543 - val_accuracy: 0.5037\n",
            "Epoch 80/100\n",
            "100/100 [==============================] - 21s 208ms/step - loss: 0.0550 - accuracy: 1.0000 - val_loss: 4.8624 - val_accuracy: 0.5053\n",
            "Epoch 81/100\n",
            "100/100 [==============================] - 21s 211ms/step - loss: 0.0526 - accuracy: 1.0000 - val_loss: 4.8721 - val_accuracy: 0.5050\n",
            "Epoch 82/100\n",
            "100/100 [==============================] - 21s 208ms/step - loss: 0.0502 - accuracy: 1.0000 - val_loss: 4.8815 - val_accuracy: 0.5037\n",
            "Epoch 83/100\n",
            "100/100 [==============================] - 20s 201ms/step - loss: 0.0478 - accuracy: 1.0000 - val_loss: 4.8930 - val_accuracy: 0.5053\n",
            "Epoch 84/100\n",
            "100/100 [==============================] - 21s 208ms/step - loss: 0.0455 - accuracy: 1.0000 - val_loss: 4.9012 - val_accuracy: 0.5060\n",
            "Epoch 85/100\n",
            "100/100 [==============================] - 21s 210ms/step - loss: 0.0433 - accuracy: 1.0000 - val_loss: 4.9109 - val_accuracy: 0.5033\n",
            "Epoch 86/100\n",
            "100/100 [==============================] - 25s 251ms/step - loss: 0.0410 - accuracy: 1.0000 - val_loss: 4.9236 - val_accuracy: 0.5027\n",
            "Epoch 87/100\n",
            "100/100 [==============================] - 21s 210ms/step - loss: 0.0389 - accuracy: 1.0000 - val_loss: 4.9310 - val_accuracy: 0.5023\n",
            "Epoch 88/100\n",
            "100/100 [==============================] - 20s 203ms/step - loss: 0.0367 - accuracy: 1.0000 - val_loss: 4.9356 - val_accuracy: 0.5017\n",
            "Epoch 89/100\n",
            "100/100 [==============================] - 21s 210ms/step - loss: 0.0347 - accuracy: 1.0000 - val_loss: 4.9395 - val_accuracy: 0.5013\n",
            "Epoch 90/100\n",
            "100/100 [==============================] - 21s 208ms/step - loss: 0.0327 - accuracy: 1.0000 - val_loss: 4.9426 - val_accuracy: 0.5030\n",
            "Epoch 91/100\n",
            "100/100 [==============================] - 20s 201ms/step - loss: 0.0307 - accuracy: 1.0000 - val_loss: 4.9389 - val_accuracy: 0.5057\n",
            "Epoch 92/100\n",
            "100/100 [==============================] - 21s 213ms/step - loss: 0.0289 - accuracy: 1.0000 - val_loss: 4.9296 - val_accuracy: 0.5060\n",
            "Epoch 93/100\n",
            "100/100 [==============================] - 20s 202ms/step - loss: 0.0270 - accuracy: 1.0000 - val_loss: 4.9284 - val_accuracy: 0.5053\n",
            "Epoch 94/100\n",
            "100/100 [==============================] - 21s 210ms/step - loss: 0.0253 - accuracy: 1.0000 - val_loss: 4.9109 - val_accuracy: 0.5057\n",
            "Epoch 95/100\n",
            "100/100 [==============================] - 21s 209ms/step - loss: 0.0236 - accuracy: 1.0000 - val_loss: 4.9043 - val_accuracy: 0.5033\n",
            "Epoch 96/100\n",
            "100/100 [==============================] - 21s 205ms/step - loss: 0.0220 - accuracy: 1.0000 - val_loss: 4.8800 - val_accuracy: 0.5037\n",
            "Epoch 97/100\n",
            "100/100 [==============================] - 21s 212ms/step - loss: 0.0204 - accuracy: 1.0000 - val_loss: 4.8491 - val_accuracy: 0.5007\n",
            "Epoch 98/100\n",
            "100/100 [==============================] - 20s 204ms/step - loss: 0.0190 - accuracy: 1.0000 - val_loss: 4.8160 - val_accuracy: 0.5050\n",
            "Epoch 99/100\n",
            "100/100 [==============================] - 22s 216ms/step - loss: 0.0176 - accuracy: 1.0000 - val_loss: 4.7748 - val_accuracy: 0.5080\n",
            "Epoch 100/100\n",
            "100/100 [==============================] - 21s 214ms/step - loss: 0.0163 - accuracy: 1.0000 - val_loss: 4.7700 - val_accuracy: 0.5083\n"
          ]
        }
      ]
    },
    {
      "cell_type": "markdown",
      "metadata": {
        "id": "FnnIyFtNKhbD"
      },
      "source": [
        "> ## 4) 학습 결과 시각화"
      ]
    },
    {
      "cell_type": "code",
      "source": [
        "import matplotlib.pyplot as plt\n",
        "\n",
        "epochs = range(1, len(history.history['loss']) + 1)\n",
        "\n",
        "plt.figure(figsize = (15, 5))\n",
        "\n",
        "plt.subplot(1, 2, 1)\n",
        "plt.plot(epochs, history.history['loss'], 'b-')\n",
        "plt.plot(epochs, history.history['val_loss'], 'r--')\n",
        "plt.title('Training & Validation Loss')\n",
        "plt.xlabel('Epochs')\n",
        "plt.ylabel('Loss')\n",
        "plt.legend(['Training Loss', 'Validation Loss'])\n",
        "plt.grid()\n",
        "\n",
        "plt.subplot(1, 2, 2)\n",
        "plt.plot(epochs, history.history['accuracy'], 'b-')\n",
        "plt.plot(epochs, history.history['val_accuracy'], 'r--')\n",
        "plt.title('Training & Validation Accuracy')\n",
        "plt.xlabel('Epochs')\n",
        "plt.ylabel('Accuracy')\n",
        "plt.legend(['Training Accuracy', 'Validation Accuracy'])\n",
        "plt.grid()\n",
        "\n",
        "plt.show()"
      ],
      "metadata": {
        "colab": {
          "base_uri": "https://localhost:8080/",
          "height": 386
        },
        "id": "XB_upHN-GEJU",
        "outputId": "bf655181-ad86-4824-fc02-d31bdb5ea2e9"
      },
      "execution_count": 54,
      "outputs": [
        {
          "output_type": "display_data",
          "data": {
            "text/plain": [
              "<Figure size 1500x500 with 2 Axes>"
            ],
            "image/png": "[encoded data removed]"
          },
          "metadata": {}
        }
      ]
    },
    {
      "cell_type": "markdown",
      "metadata": {
        "id": "_uJSOLBko7lh"
      },
      "source": [
        "> ## 5) Model Evaluate"
      ]
    },
    {
      "cell_type": "code",
      "source": [
        "loss, accuracy = model.evaluate(test_generator,\n",
        "                                steps = 50, \n",
        "                                verbose = 0)\n",
        "\n",
        "print('Loss = {:.5f}'.format(loss))\n",
        "print('Accuracy = {:.5f}'.format(accuracy))"
      ],
      "metadata": {
        "colab": {
          "base_uri": "https://localhost:8080/"
        },
        "id": "qhx0yq5lGJue",
        "outputId": "b6537d44-6c54-4d3d-dda9-a5a2087da144"
      },
      "execution_count": 55,
      "outputs": [
        {
          "output_type": "stream",
          "name": "stdout",
          "text": [
            "Loss = 5.07247\n",
            "Accuracy = 0.49840\n"
          ]
        }
      ]
    },
    {
      "cell_type": "markdown",
      "metadata": {
        "id": "sN48I9GrLxOX"
      },
      "source": [
        "# \n",
        "# \n",
        "# \n",
        "# The End\n",
        "# \n",
        "# \n",
        "# "
      ]
    }
  ]
}