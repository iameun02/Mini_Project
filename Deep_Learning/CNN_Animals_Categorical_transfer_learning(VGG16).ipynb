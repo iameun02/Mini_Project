{
  "nbformat": 4,
  "nbformat_minor": 0,
  "metadata": {
    "colab": {
      "provenance": []
    },
    "kernelspec": {
      "name": "python3",
      "display_name": "Python 3"
    },
    "gpuClass": "standard",
    "accelerator": "GPU"
  },
  "cells": [
    {
      "cell_type": "markdown",
      "metadata": {
        "id": "q2Pr7oBdYLdf"
      },
      "source": [
        "# 이미지 데이터 셋을 이용한 CNN Modeling\n",
        "## Animals Dataset Categorical Classification\n",
        "* Train_Data : 5000\n",
        "* Valid_Data : 3000\n",
        "* Test_Data : 3000"
      ]
    },
    {
      "cell_type": "code",
      "metadata": {
        "id": "RbPgODpVzdHI"
      },
      "source": [
        "import warnings\n",
        "warnings.filterwarnings('ignore')"
      ],
      "execution_count": 1,
      "outputs": []
    },
    {
      "cell_type": "markdown",
      "source": [
        "* Import TensorFlow"
      ],
      "metadata": {
        "id": "kGLxnpmRyMwH"
      }
    },
    {
      "cell_type": "code",
      "source": [
        "import tensorflow as tf\n",
        "\n",
        "tf.__version__"
      ],
      "metadata": {
        "colab": {
          "base_uri": "https://localhost:8080/",
          "height": 36
        },
        "id": "axDX2DfUyPlO",
        "outputId": "1e5a5eb2-cf9f-4552-a16d-e9a22a808383"
      },
      "execution_count": 2,
      "outputs": [
        {
          "output_type": "execute_result",
          "data": {
            "text/plain": [
              "'2.12.0'"
            ],
            "application/vnd.google.colaboratory.intrinsic+json": {
              "type": "string"
            }
          },
          "metadata": {},
          "execution_count": 2
        }
      ]
    },
    {
      "cell_type": "markdown",
      "metadata": {
        "id": "6d1FeKK1CgqG"
      },
      "source": [
        "# I. wget From Github"
      ]
    },
    {
      "cell_type": "markdown",
      "source": [
        "> ## 1) 'animals_part.zip' 파일 다운로드"
      ],
      "metadata": {
        "id": "aQ-o8xUHpG7-"
      }
    },
    {
      "cell_type": "code",
      "source": [
        "!wget https://raw.githubusercontent.com/rusita-ai/pyData/master/animals_part.z{ip,01,02}"
      ],
      "metadata": {
        "colab": {
          "base_uri": "https://localhost:8080/"
        },
        "outputId": "405bd297-05a9-4db0-850a-cf897fb1d278",
        "id": "GELUxgE5C-So"
      },
      "execution_count": 3,
      "outputs": [
        {
          "output_type": "stream",
          "name": "stdout",
          "text": [
            "--2023-04-05 06:12:12--  https://raw.githubusercontent.com/rusita-ai/pyData/master/animals_part.zip\n",
            "Resolving raw.githubusercontent.com (raw.githubusercontent.com)... 185.199.108.133, 185.199.109.133, 185.199.110.133, ...\n",
            "Connecting to raw.githubusercontent.com (raw.githubusercontent.com)|185.199.108.133|:443... connected.\n",
            "HTTP request sent, awaiting response... 200 OK\n",
            "Length: 88551715 (84M) [application/zip]\n",
            "Saving to: ‘animals_part.zip’\n",
            "\n",
            "animals_part.zip    100%[===================>]  84.45M   165MB/s    in 0.5s    \n",
            "\n",
            "2023-04-05 06:12:13 (165 MB/s) - ‘animals_part.zip’ saved [88551715/88551715]\n",
            "\n",
            "--2023-04-05 06:12:13--  https://raw.githubusercontent.com/rusita-ai/pyData/master/animals_part.z01\n",
            "Reusing existing connection to raw.githubusercontent.com:443.\n",
            "HTTP request sent, awaiting response... 200 OK\n",
            "Length: 94371840 (90M) [application/octet-stream]\n",
            "Saving to: ‘animals_part.z01’\n",
            "\n",
            "animals_part.z01    100%[===================>]  90.00M   189MB/s    in 0.5s    \n",
            "\n",
            "2023-04-05 06:12:15 (189 MB/s) - ‘animals_part.z01’ saved [94371840/94371840]\n",
            "\n",
            "--2023-04-05 06:12:15--  https://raw.githubusercontent.com/rusita-ai/pyData/master/animals_part.z02\n",
            "Reusing existing connection to raw.githubusercontent.com:443.\n",
            "HTTP request sent, awaiting response... 200 OK\n",
            "Length: 94371840 (90M) [application/octet-stream]\n",
            "Saving to: ‘animals_part.z02’\n",
            "\n",
            "animals_part.z02    100%[===================>]  90.00M   137MB/s    in 0.7s    \n",
            "\n",
            "2023-04-05 06:12:17 (137 MB/s) - ‘animals_part.z02’ saved [94371840/94371840]\n",
            "\n",
            "FINISHED --2023-04-05 06:12:17--\n",
            "Total wall clock time: 5.1s\n",
            "Downloaded: 3 files, 264M in 1.6s (161 MB/s)\n"
          ]
        }
      ]
    },
    {
      "cell_type": "markdown",
      "metadata": {
        "id": "rBrMKlsgEvV7"
      },
      "source": [
        "* 다운로드 결과 확인"
      ]
    },
    {
      "cell_type": "code",
      "metadata": {
        "id": "ZAA_YjrVExu7",
        "colab": {
          "base_uri": "https://localhost:8080/"
        },
        "outputId": "155da4ec-e992-4bc5-84bf-8eb518b32471"
      },
      "source": [
        "!ls -l"
      ],
      "execution_count": 4,
      "outputs": [
        {
          "output_type": "stream",
          "name": "stdout",
          "text": [
            "total 270804\n",
            "-rw-r--r-- 1 root root 94371840 Apr  5 06:12 animals_part.z01\n",
            "-rw-r--r-- 1 root root 94371840 Apr  5 06:12 animals_part.z02\n",
            "-rw-r--r-- 1 root root 88551715 Apr  5 06:12 animals_part.zip\n",
            "drwxr-xr-x 1 root root     4096 Apr  3 13:38 sample_data\n"
          ]
        }
      ]
    },
    {
      "cell_type": "markdown",
      "source": [
        "> ## 2) 분할된 파일 합치기"
      ],
      "metadata": {
        "id": "LpDYRNy9pS72"
      }
    },
    {
      "cell_type": "code",
      "source": [
        "!zip -Fq animals_part.zip --out animals.zip"
      ],
      "metadata": {
        "id": "oObuOlWgc8X7"
      },
      "execution_count": 5,
      "outputs": []
    },
    {
      "cell_type": "markdown",
      "source": [
        "* 'animals.zip' 생성 확인"
      ],
      "metadata": {
        "id": "2RJG0f3npnju"
      }
    },
    {
      "cell_type": "code",
      "source": [
        "!ls -l"
      ],
      "metadata": {
        "colab": {
          "base_uri": "https://localhost:8080/"
        },
        "id": "0QoV9boXpsL1",
        "outputId": "cba6ded0-0eb2-4a2c-8d93-e76f3b27a6b4"
      },
      "execution_count": 6,
      "outputs": [
        {
          "output_type": "stream",
          "name": "stdout",
          "text": [
            "total 541604\n",
            "-rw-r--r-- 1 root root  94371840 Apr  5 06:12 animals_part.z01\n",
            "-rw-r--r-- 1 root root  94371840 Apr  5 06:12 animals_part.z02\n",
            "-rw-r--r-- 1 root root  88551715 Apr  5 06:12 animals_part.zip\n",
            "-rw-r--r-- 1 root root 277295391 Apr  5 06:12 animals.zip\n",
            "drwxr-xr-x 1 root root      4096 Apr  3 13:38 sample_data\n"
          ]
        }
      ]
    },
    {
      "cell_type": "markdown",
      "metadata": {
        "id": "1DyFdyVxFyHK"
      },
      "source": [
        "# II. Data Preprocessing"
      ]
    },
    {
      "cell_type": "markdown",
      "metadata": {
        "id": "D9zdBsGKnLUo"
      },
      "source": [
        "> ## 1) Unzip 'animals.zip'"
      ]
    },
    {
      "cell_type": "code",
      "metadata": {
        "id": "WkuHaDXcnUtY"
      },
      "source": [
        "!unzip -q /content/animals.zip"
      ],
      "execution_count": 7,
      "outputs": []
    },
    {
      "cell_type": "markdown",
      "source": [
        "* 학습 데이터 확인"
      ],
      "metadata": {
        "id": "nYRGJ9bpp4pF"
      }
    },
    {
      "cell_type": "code",
      "source": [
        "!ls -l animals/"
      ],
      "metadata": {
        "colab": {
          "base_uri": "https://localhost:8080/"
        },
        "id": "FdQBGRJTp0MV",
        "outputId": "8a55d7e6-0f05-47b3-9413-ae05e318cfde"
      },
      "execution_count": 8,
      "outputs": [
        {
          "output_type": "stream",
          "name": "stdout",
          "text": [
            "total 12\n",
            "drwxr-xr-x 12 root root 4096 Oct 25 13:50 test\n",
            "drwxr-xr-x 12 root root 4096 Oct 25 13:50 train\n",
            "drwxr-xr-x 12 root root 4096 Oct 25 13:50 validation\n"
          ]
        }
      ]
    },
    {
      "cell_type": "markdown",
      "metadata": {
        "id": "H49A769LYp-a"
      },
      "source": [
        "> ## 2) Image_File Directory Setting"
      ]
    },
    {
      "cell_type": "markdown",
      "metadata": {
        "id": "fwUMpMCYGB7Z"
      },
      "source": [
        "* train_dir\n",
        "* valid_dir\n",
        "* test_dir"
      ]
    },
    {
      "cell_type": "code",
      "metadata": {
        "id": "DxstjE8b_6Te"
      },
      "source": [
        "train_dir = 'animals/train'\n",
        "valid_dir = 'animals/validation'\n",
        "test_dir  = 'animals/test'"
      ],
      "execution_count": 9,
      "outputs": []
    },
    {
      "cell_type": "markdown",
      "metadata": {
        "id": "Mk9XL5vGHor6"
      },
      "source": [
        "> ## 3) ImageDataGenerator( ) & flow_from_directory( )"
      ]
    },
    {
      "cell_type": "markdown",
      "metadata": {
        "id": "_UbiVo2EGlOt"
      },
      "source": [
        "* Normalization\n",
        " * ImageDataGenerator( )\n",
        "* Resizing & Generator\n",
        " * flow_from_directory( )"
      ]
    },
    {
      "cell_type": "code",
      "metadata": {
        "id": "eC48Oym3Ao8E",
        "colab": {
          "base_uri": "https://localhost:8080/"
        },
        "outputId": "848cc0b2-7fd4-45b4-df0f-1e7bcd83f665"
      },
      "source": [
        "from tensorflow.keras.preprocessing.image import ImageDataGenerator\n",
        "\n",
        "train_datagen = ImageDataGenerator(rescale = 1./255,\n",
        "                                   rotation_range = 40,\n",
        "                                   width_shift_range = 0.2,\n",
        "                                   height_shift_range = 0.2,\n",
        "                                   shear_range = 0.2,\n",
        "                                   zoom_range = 0.2,\n",
        "                                   horizontal_flip = True,\n",
        "                                   vertical_flip = True,\n",
        "                                   fill_mode = 'nearest')\n",
        "\n",
        "valid_datagen = ImageDataGenerator(rescale = 1./255)\n",
        "\n",
        "\n",
        "train_generator = train_datagen.flow_from_directory(\n",
        "                  train_dir,\n",
        "                  target_size = (150, 150),\n",
        "                  batch_size = 20,\n",
        "                  class_mode = 'categorical')\n",
        "\n",
        "valid_generator = valid_datagen.flow_from_directory(\n",
        "                  valid_dir,\n",
        "                  target_size = (150, 150),\n",
        "                  batch_size = 20,\n",
        "                  class_mode = 'categorical')"
      ],
      "execution_count": 10,
      "outputs": [
        {
          "output_type": "stream",
          "name": "stdout",
          "text": [
            "Found 5000 images belonging to 10 classes.\n",
            "Found 3000 images belonging to 10 classes.\n"
          ]
        }
      ]
    },
    {
      "cell_type": "markdown",
      "metadata": {
        "id": "vCpCB_giJbZr"
      },
      "source": [
        "> ## 4) Test train_generator"
      ]
    },
    {
      "cell_type": "code",
      "metadata": {
        "id": "NW5rHWtcJnTq",
        "colab": {
          "base_uri": "https://localhost:8080/"
        },
        "outputId": "1786b512-2caf-4fb2-a4a5-fbc4c2dd6807"
      },
      "source": [
        "for data_batch, labels_batch in train_generator:\n",
        "    print('배치 데이터 크기:', data_batch.shape)\n",
        "    print('배치 레이블 크기:', labels_batch.shape)\n",
        "    break"
      ],
      "execution_count": 11,
      "outputs": [
        {
          "output_type": "stream",
          "name": "stdout",
          "text": [
            "배치 데이터 크기: (20, 150, 150, 3)\n",
            "배치 레이블 크기: (20, 10)\n"
          ]
        }
      ]
    },
    {
      "cell_type": "code",
      "metadata": {
        "colab": {
          "base_uri": "https://localhost:8080/"
        },
        "id": "VnTocUr6YgKa",
        "outputId": "cc92c890-8b41-43f8-a187-cd4778ebfc2a"
      },
      "source": [
        "labels_batch"
      ],
      "execution_count": 12,
      "outputs": [
        {
          "output_type": "execute_result",
          "data": {
            "text/plain": [
              "array([[0., 0., 0., 0., 0., 0., 0., 0., 1., 0.],\n",
              "       [0., 0., 0., 0., 0., 1., 0., 0., 0., 0.],\n",
              "       [1., 0., 0., 0., 0., 0., 0., 0., 0., 0.],\n",
              "       [0., 0., 0., 0., 0., 1., 0., 0., 0., 0.],\n",
              "       [0., 0., 1., 0., 0., 0., 0., 0., 0., 0.],\n",
              "       [0., 0., 1., 0., 0., 0., 0., 0., 0., 0.],\n",
              "       [0., 0., 0., 0., 0., 1., 0., 0., 0., 0.],\n",
              "       [0., 0., 1., 0., 0., 0., 0., 0., 0., 0.],\n",
              "       [0., 0., 0., 0., 0., 0., 0., 1., 0., 0.],\n",
              "       [0., 0., 0., 1., 0., 0., 0., 0., 0., 0.],\n",
              "       [0., 0., 0., 0., 1., 0., 0., 0., 0., 0.],\n",
              "       [0., 0., 0., 0., 0., 1., 0., 0., 0., 0.],\n",
              "       [0., 0., 0., 0., 0., 0., 0., 0., 1., 0.],\n",
              "       [0., 0., 0., 0., 0., 1., 0., 0., 0., 0.],\n",
              "       [0., 0., 1., 0., 0., 0., 0., 0., 0., 0.],\n",
              "       [1., 0., 0., 0., 0., 0., 0., 0., 0., 0.],\n",
              "       [0., 0., 0., 0., 0., 0., 0., 0., 1., 0.],\n",
              "       [0., 0., 0., 0., 0., 0., 0., 0., 0., 1.],\n",
              "       [0., 0., 0., 0., 0., 0., 0., 1., 0., 0.],\n",
              "       [0., 0., 0., 0., 0., 0., 0., 0., 1., 0.]], dtype=float32)"
            ]
          },
          "metadata": {},
          "execution_count": 12
        }
      ]
    },
    {
      "cell_type": "markdown",
      "metadata": {
        "id": "NTwZiSjiop3v"
      },
      "source": [
        "# III. CNN Keras Modeling"
      ]
    },
    {
      "cell_type": "markdown",
      "source": [
        " > ## 1) Import VGG-16 Model"
      ],
      "metadata": {
        "id": "9HDYG1L5DwUD"
      }
    },
    {
      "cell_type": "code",
      "source": [
        "from tensorflow.keras.applications import VGG16\n",
        "\n",
        "conv_base = VGG16(weights= 'imagenet',\n",
        "                  include_top = False,\n",
        "                  input_shape = (150,150,3))"
      ],
      "metadata": {
        "colab": {
          "base_uri": "https://localhost:8080/"
        },
        "id": "RwRK_gh_DS0A",
        "outputId": "66ca6392-7fd3-44d2-dd8d-a0297e16b39c"
      },
      "execution_count": 13,
      "outputs": [
        {
          "output_type": "stream",
          "name": "stdout",
          "text": [
            "Downloading data from https://storage.googleapis.com/tensorflow/keras-applications/vgg16/vgg16_weights_tf_dim_ordering_tf_kernels_notop.h5\n",
            "58889256/58889256 [==============================] - 0s 0us/step\n"
          ]
        }
      ]
    },
    {
      "cell_type": "markdown",
      "metadata": {
        "id": "j5CT0TurJCkc"
      },
      "source": [
        "> ## 2) Model Concatenate"
      ]
    },
    {
      "cell_type": "markdown",
      "metadata": {
        "id": "ydDCl0jTJD58"
      },
      "source": [
        "* Feature Extraction & Classification"
      ]
    },
    {
      "cell_type": "code",
      "metadata": {
        "id": "II0DskRdAcHS"
      },
      "source": [
        "from tensorflow.keras import layers\n",
        "from tensorflow.keras import models\n",
        "\n",
        "model = models.Sequential()\n",
        "model.add(conv_base)\n",
        "\n",
        "model.add(layers.Flatten())\n",
        "model.add(layers.Dropout(0.5))\n",
        "model.add(layers.Dense(512, activation = 'relu'))\n",
        "model.add(layers.Dense(10, activation = 'softmax'))"
      ],
      "execution_count": 16,
      "outputs": []
    },
    {
      "cell_type": "code",
      "metadata": {
        "id": "wbtjOA4XMTUd",
        "colab": {
          "base_uri": "https://localhost:8080/"
        },
        "outputId": "71257a0e-6952-46fc-edb4-fb0cdcc8edc9"
      },
      "source": [
        "model.summary()"
      ],
      "execution_count": 17,
      "outputs": [
        {
          "output_type": "stream",
          "name": "stdout",
          "text": [
            "Model: \"sequential_2\"\n",
            "_________________________________________________________________\n",
            " Layer (type)                Output Shape              Param #   \n",
            "=================================================================\n",
            " vgg16 (Functional)          (None, 4, 4, 512)         14714688  \n",
            "                                                                 \n",
            " flatten (Flatten)           (None, 8192)              0         \n",
            "                                                                 \n",
            " dropout (Dropout)           (None, 8192)              0         \n",
            "                                                                 \n",
            " dense (Dense)               (None, 512)               4194816   \n",
            "                                                                 \n",
            " dense_1 (Dense)             (None, 10)                5130      \n",
            "                                                                 \n",
            "=================================================================\n",
            "Total params: 18,914,634\n",
            "Trainable params: 18,914,634\n",
            "Non-trainable params: 0\n",
            "_________________________________________________________________\n"
          ]
        }
      ]
    },
    {
      "cell_type": "markdown",
      "metadata": {
        "id": "tpjBDBeYoyuj"
      },
      "source": [
        "> ## 2) Model Compile"
      ]
    },
    {
      "cell_type": "markdown",
      "metadata": {
        "id": "f3sxkQa0JoUr"
      },
      "source": [
        "* 모델 학습방법 설정"
      ]
    },
    {
      "cell_type": "code",
      "metadata": {
        "id": "AyK_t1qwAi6M"
      },
      "source": [
        "from tensorflow.keras import optimizers\n",
        "model.compile(loss = 'categorical_crossentropy',\n",
        "              optimizer = optimizers.Adam(learning_rate = 0.000005) ,\n",
        "              metrics = ['accuracy'])"
      ],
      "execution_count": 18,
      "outputs": []
    },
    {
      "cell_type": "markdown",
      "metadata": {
        "id": "umiq4B-Xo3OB"
      },
      "source": [
        "> ## 3) Model Fit"
      ]
    },
    {
      "cell_type": "markdown",
      "metadata": {
        "id": "1KuXREziKMD1"
      },
      "source": [
        "* 약 25분"
      ]
    },
    {
      "cell_type": "code",
      "metadata": {
        "id": "zxwqwAqRAqRP",
        "colab": {
          "base_uri": "https://localhost:8080/"
        },
        "outputId": "cd48a7a1-d3ac-4502-fde7-d256402861b6"
      },
      "source": [
        "%%time\n",
        "\n",
        "Hist_animal = model.fit(train_generator,\n",
        "                        steps_per_epoch = 250,\n",
        "                        epochs = 30,\n",
        "                        validation_data = valid_generator,\n",
        "                        validation_steps = 150)"
      ],
      "execution_count": 19,
      "outputs": [
        {
          "output_type": "stream",
          "name": "stdout",
          "text": [
            "Epoch 1/30\n",
            "250/250 [==============================] - 80s 243ms/step - loss: 2.3755 - accuracy: 0.1378 - val_loss: 1.9867 - val_accuracy: 0.3093\n",
            "Epoch 2/30\n",
            "250/250 [==============================] - 60s 239ms/step - loss: 1.9043 - accuracy: 0.3302 - val_loss: 1.4623 - val_accuracy: 0.4803\n",
            "Epoch 3/30\n",
            "250/250 [==============================] - 60s 239ms/step - loss: 1.5310 - accuracy: 0.4658 - val_loss: 1.4833 - val_accuracy: 0.4753\n",
            "Epoch 4/30\n",
            "250/250 [==============================] - 60s 240ms/step - loss: 1.3381 - accuracy: 0.5246 - val_loss: 1.1460 - val_accuracy: 0.5870\n",
            "Epoch 5/30\n",
            "250/250 [==============================] - 60s 239ms/step - loss: 1.1900 - accuracy: 0.5794 - val_loss: 1.0635 - val_accuracy: 0.6517\n",
            "Epoch 6/30\n",
            "250/250 [==============================] - 60s 239ms/step - loss: 1.0602 - accuracy: 0.6360 - val_loss: 0.9227 - val_accuracy: 0.6930\n",
            "Epoch 7/30\n",
            "250/250 [==============================] - 60s 238ms/step - loss: 0.9653 - accuracy: 0.6650 - val_loss: 0.8466 - val_accuracy: 0.7157\n",
            "Epoch 8/30\n",
            "250/250 [==============================] - 60s 240ms/step - loss: 0.8901 - accuracy: 0.6868 - val_loss: 0.8196 - val_accuracy: 0.7217\n",
            "Epoch 9/30\n",
            "250/250 [==============================] - 60s 238ms/step - loss: 0.8175 - accuracy: 0.7156 - val_loss: 0.8093 - val_accuracy: 0.7330\n",
            "Epoch 10/30\n",
            "250/250 [==============================] - 60s 241ms/step - loss: 0.7704 - accuracy: 0.7422 - val_loss: 0.7542 - val_accuracy: 0.7557\n",
            "Epoch 11/30\n",
            "250/250 [==============================] - 60s 240ms/step - loss: 0.7492 - accuracy: 0.7426 - val_loss: 0.7205 - val_accuracy: 0.7627\n",
            "Epoch 12/30\n",
            "250/250 [==============================] - 59s 237ms/step - loss: 0.6767 - accuracy: 0.7710 - val_loss: 0.7446 - val_accuracy: 0.7680\n",
            "Epoch 13/30\n",
            "250/250 [==============================] - 60s 241ms/step - loss: 0.6515 - accuracy: 0.7782 - val_loss: 0.6869 - val_accuracy: 0.7770\n",
            "Epoch 14/30\n",
            "250/250 [==============================] - 60s 239ms/step - loss: 0.6357 - accuracy: 0.7836 - val_loss: 0.6034 - val_accuracy: 0.8120\n",
            "Epoch 15/30\n",
            "250/250 [==============================] - 60s 241ms/step - loss: 0.5934 - accuracy: 0.7942 - val_loss: 0.6464 - val_accuracy: 0.7983\n",
            "Epoch 16/30\n",
            "250/250 [==============================] - 60s 239ms/step - loss: 0.5747 - accuracy: 0.8050 - val_loss: 0.6503 - val_accuracy: 0.8053\n",
            "Epoch 17/30\n",
            "250/250 [==============================] - 62s 249ms/step - loss: 0.5351 - accuracy: 0.8156 - val_loss: 0.5849 - val_accuracy: 0.8163\n",
            "Epoch 18/30\n",
            "250/250 [==============================] - 60s 239ms/step - loss: 0.5229 - accuracy: 0.8204 - val_loss: 0.7148 - val_accuracy: 0.7953\n",
            "Epoch 19/30\n",
            "250/250 [==============================] - 61s 244ms/step - loss: 0.4886 - accuracy: 0.8298 - val_loss: 0.6513 - val_accuracy: 0.8097\n",
            "Epoch 20/30\n",
            "250/250 [==============================] - 60s 240ms/step - loss: 0.4845 - accuracy: 0.8360 - val_loss: 0.6628 - val_accuracy: 0.8083\n",
            "Epoch 21/30\n",
            "250/250 [==============================] - 61s 242ms/step - loss: 0.4652 - accuracy: 0.8430 - val_loss: 0.6194 - val_accuracy: 0.8240\n",
            "Epoch 22/30\n",
            "250/250 [==============================] - 60s 241ms/step - loss: 0.4407 - accuracy: 0.8524 - val_loss: 0.6716 - val_accuracy: 0.8073\n",
            "Epoch 23/30\n",
            "250/250 [==============================] - 60s 239ms/step - loss: 0.4208 - accuracy: 0.8526 - val_loss: 0.5705 - val_accuracy: 0.8337\n",
            "Epoch 24/30\n",
            "250/250 [==============================] - 60s 239ms/step - loss: 0.4224 - accuracy: 0.8618 - val_loss: 0.5683 - val_accuracy: 0.8343\n",
            "Epoch 25/30\n",
            "250/250 [==============================] - 60s 239ms/step - loss: 0.3933 - accuracy: 0.8688 - val_loss: 0.6937 - val_accuracy: 0.8040\n",
            "Epoch 26/30\n",
            "250/250 [==============================] - 60s 240ms/step - loss: 0.3834 - accuracy: 0.8640 - val_loss: 0.5385 - val_accuracy: 0.8477\n",
            "Epoch 27/30\n",
            "250/250 [==============================] - 60s 239ms/step - loss: 0.3708 - accuracy: 0.8734 - val_loss: 0.6265 - val_accuracy: 0.8290\n",
            "Epoch 28/30\n",
            "250/250 [==============================] - 61s 244ms/step - loss: 0.3614 - accuracy: 0.8768 - val_loss: 0.5908 - val_accuracy: 0.8363\n",
            "Epoch 29/30\n",
            "250/250 [==============================] - 59s 237ms/step - loss: 0.3569 - accuracy: 0.8784 - val_loss: 0.5346 - val_accuracy: 0.8490\n",
            "Epoch 30/30\n",
            "250/250 [==============================] - 60s 240ms/step - loss: 0.3220 - accuracy: 0.8898 - val_loss: 0.6500 - val_accuracy: 0.8320\n",
            "CPU times: user 40min 54s, sys: 44.5 s, total: 41min 38s\n",
            "Wall time: 34min 23s\n"
          ]
        }
      ]
    },
    {
      "cell_type": "markdown",
      "metadata": {
        "id": "FnnIyFtNKhbD"
      },
      "source": [
        "> ## 4) 학습 결과 시각화"
      ]
    },
    {
      "cell_type": "code",
      "metadata": {
        "id": "BRIqZjTOWaN2",
        "colab": {
          "base_uri": "https://localhost:8080/",
          "height": 382
        },
        "outputId": "40d18b2c-78f6-408c-db27-adbe72cca70e"
      },
      "source": [
        "import matplotlib.pyplot as plt\n",
        "\n",
        "epochs = range(1, len(Hist_animal.history['loss']) + 1)\n",
        "\n",
        "plt.figure(figsize = (15, 5))\n",
        "\n",
        "plt.subplot(1, 2, 1)\n",
        "plt.plot(epochs, Hist_animal.history['loss'], 'b-')\n",
        "plt.plot(epochs, Hist_animal.history['val_loss'], 'r--')\n",
        "plt.title('Training & Validation Loss')\n",
        "plt.xlabel('Epochs')\n",
        "plt.ylabel('Loss')\n",
        "plt.legend(['Training Loss', 'Validation Loss'])\n",
        "plt.grid()\n",
        "\n",
        "plt.subplot(1, 2, 2)\n",
        "plt.plot(epochs, Hist_animal.history['accuracy'], 'b-')\n",
        "plt.plot(epochs, Hist_animal.history['val_accuracy'], 'r--')\n",
        "plt.title('Training & Validation Accuracy')\n",
        "plt.xlabel('Epochs')\n",
        "plt.ylabel('Accuracy')\n",
        "plt.legend(['Training Accuracy', 'Validation Accuracy'])\n",
        "plt.grid()\n",
        "\n",
        "plt.show()"
      ],
      "execution_count": 20,
      "outputs": [
        {
          "output_type": "display_data",
          "data": {
            "text/plain": [
              "<Figure size 1500x500 with 2 Axes>"
            ],
            "image/png": "[encoded data removed]"
          },
          "metadata": {}
        }
      ]
    },
    {
      "cell_type": "markdown",
      "metadata": {
        "id": "_uJSOLBko7lh"
      },
      "source": [
        "> ## 5) Model Evaluate"
      ]
    },
    {
      "cell_type": "markdown",
      "metadata": {
        "id": "vqd33SF_RG3q"
      },
      "source": [
        "* test_generator"
      ]
    },
    {
      "cell_type": "code",
      "metadata": {
        "id": "2SZddYK7RLov",
        "colab": {
          "base_uri": "https://localhost:8080/"
        },
        "outputId": "d7e09ca2-9bd3-48f1-ec1a-81e299aaa961"
      },
      "source": [
        "test_datagen = ImageDataGenerator(rescale = 1./255)\n",
        "\n",
        "test_generator = test_datagen.flow_from_directory(\n",
        "                 test_dir,\n",
        "                 target_size = (150, 150),\n",
        "                 batch_size = 20,\n",
        "                 class_mode = 'categorical')"
      ],
      "execution_count": 21,
      "outputs": [
        {
          "output_type": "stream",
          "name": "stdout",
          "text": [
            "Found 3000 images belonging to 10 classes.\n"
          ]
        }
      ]
    },
    {
      "cell_type": "markdown",
      "metadata": {
        "id": "i-TqAB2ALGzZ"
      },
      "source": [
        "* Loss & Accuracy"
      ]
    },
    {
      "cell_type": "code",
      "metadata": {
        "id": "OF30PuZsAxQJ",
        "colab": {
          "base_uri": "https://localhost:8080/"
        },
        "outputId": "8ea88417-0ed1-434e-dd44-62c53afeddd3"
      },
      "source": [
        "loss, accuracy = model.evaluate(test_generator,\n",
        "                                steps = 150, \n",
        "                                verbose = 0)\n",
        "\n",
        "print('Loss = {:.5f}'.format(loss))\n",
        "print('Accuracy = {:.5f}'.format(accuracy))"
      ],
      "execution_count": 22,
      "outputs": [
        {
          "output_type": "stream",
          "name": "stdout",
          "text": [
            "Loss = 0.65194\n",
            "Accuracy = 0.82533\n"
          ]
        }
      ]
    },
    {
      "cell_type": "markdown",
      "metadata": {
        "id": "sN48I9GrLxOX"
      },
      "source": [
        "# \n",
        "# \n",
        "# \n",
        "# The End\n",
        "# \n",
        "# \n",
        "# "
      ]
    }
  ]
}